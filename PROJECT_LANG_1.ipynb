"cells":[{"cell_type":"markdown","source":"# Project language file 1","metadata":{
"cells":[{"cell_type":"markdown","source":"## For: /SNU/3D/Universe/MilkyWay/SolarSystem/Jupiter/","metadata":{
"cells":[{"cell_type":"markdown","source":"#### About:","metadata":{
"cells":[{"cell_type":"markdown","source":"I chose Jupyter Notebook as the first project language file for this project (/SNU/3D/Universe/MilkyWay/SolarSystem/Jupiter/) as Jupiter and Jupyter have very similar spelling, and can be a good documentation source. Other languages will also be in use. It is getting its own project language file, starting here.,"metadata":{ }}}}}}}} // The syntax is likely off, I wrote this by hand, and have no way of testing it.
// File info
// File type: Jupyter Notebook source file (*.ipynb)
// File version: 1 (2022, Saturday, November 12th at 8:09 pm PST)
// Line count (including blank lines and compiler line): 9
